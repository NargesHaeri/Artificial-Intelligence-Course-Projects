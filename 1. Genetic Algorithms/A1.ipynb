{
 "cells": [
  {
   "cell_type": "markdown",
   "metadata": {},
   "source": [
    "*<center><h1><b>Computer Assignment 1</b></h1>*\n",
    "*<h3>Narges Sadat Seyed Haeri</h3></center>*\n",
    "*<center><h3>SID : 810100165</h3></center>*"
   ]
  },
  {
   "cell_type": "markdown",
   "metadata": {},
   "source": [
    "<!DOCTYPE html>\n",
    "<html lang=\"en\">\n",
    "<head>\n",
    "<meta charset=\"UTF-8\">\n",
    "<meta name=\"viewport\" content=\"width=device-width, initial-scale=1.0\">\n",
    "<title>Knapsack Problem Description</title>\n",
    "</head>\n",
    "<body>\n",
    "\n",
    "<h2>Problem Description:</h2>\n",
    "\n",
    "<p>Given a knapsack with a maximum weight capacity <em>W</em>, a set of <em>n</em> snacks, each with a weight <em>w<sub>i</sub></em> and a value <em>v<sub>i</sub></em>, where <em>1 &le; i &le; n</em>. Additionally, there are constraints:</p>\n",
    "\n",
    "<ul>\n",
    "  <li>The total weight of selected snacks cannot exceed <em>W</em>.</li>\n",
    "  <li>The total value of selected snacks must be at least <em>V<sub>min</sub></em>.</li>\n",
    "  <li>The number of distinct types of snacks selected must fall within the range [<em>K<sub>min</sub></em>, <em>K<sub>max</sub></em>].</li>\n",
    "  <li>The weight selected from each snack cannot exceed its available weight <em>w<sub>max</sub></em>.</li>\n",
    "</ul>\n",
    "\n",
    "<h2>Goal:</h2>\n",
    "\n",
    "<p>Maximize the total value of selected snacks while adhering to the specified constraints.</p>\n",
    "\n",
    "</body>\n",
    "</html>\n"
   ]
  },
  {
   "cell_type": "markdown",
   "metadata": {},
   "source": [
    "---\n",
    "*Let's start by importing the libraries we need:*"
   ]
  },
  {
   "cell_type": "code",
   "execution_count": 1,
   "metadata": {},
   "outputs": [],
   "source": [
    "import random\n",
    "import numpy as np\n",
    "import matplotlib.pyplot as plt\n",
    "import pandas as pd"
   ]
  },
  {
   "cell_type": "markdown",
   "metadata": {},
   "source": [
    "\n",
    "*We'll load the data and examine its overall characteristics.*"
   ]
  },
  {
   "cell_type": "code",
   "execution_count": 2,
   "metadata": {},
   "outputs": [],
   "source": [
    "SNACK_DATA_SET_DIR = \"snacks.csv\"\n",
    "snack_df = pd.read_csv(SNACK_DATA_SET_DIR)"
   ]
  },
  {
   "cell_type": "code",
   "execution_count": 3,
   "metadata": {},
   "outputs": [
    {
     "name": "stdout",
     "output_type": "stream",
     "text": [
      "            Snack  Available Weight  Value\n",
      "0          MazMaz                10     10\n",
      "1   Doogh-e-Abali                15     10\n",
      "2            Nani                 5      5\n",
      "3            Jooj                 7     15\n",
      "4         Hot-Dog                20     15\n",
      "5           Chips                 8      6\n",
      "6        Nooshaba                12      8\n",
      "7        Shokolat                 6      7\n",
      "8       Chocoroll                 9     12\n",
      "9         Cookies                11     11\n",
      "10        Abnabat                 4      4\n",
      "11   Adams-Khersi                14      9\n",
      "12        Popcorn                16     13\n",
      "13         Pastil                 3      7\n",
      "14       Tordilla                10      9\n",
      "15       Masghati                 5      6\n",
      "16        Ghottab                 7     10\n",
      "17   Saghe-Talaei                 9     11\n",
      "18    Choob-Shoor                13     12\n"
     ]
    }
   ],
   "source": [
    "print(snack_df)"
   ]
  },
  {
   "cell_type": "markdown",
   "metadata": {},
   "source": [
    "*With the Item class defined, we can create instances of items for our knapsack problem.*"
   ]
  },
  {
   "cell_type": "code",
   "execution_count": 4,
   "metadata": {},
   "outputs": [],
   "source": [
    "class Item:\n",
    "    def __init__(self, name, weight, value):\n",
    "        self.name = name\n",
    "        self.weight = weight\n",
    "        self.value = value"
   ]
  },
  {
   "cell_type": "markdown",
   "metadata": {},
   "source": [
    "*we convert snack data into a list of Item objects, each representing a snack with its respective attributes, for use in a knapsack algorithm.*"
   ]
  },
  {
   "cell_type": "code",
   "execution_count": 5,
   "metadata": {},
   "outputs": [
    {
     "name": "stdout",
     "output_type": "stream",
     "text": [
      "Name: MazMaz, W: 10.0, V: 10.0\n",
      "Name: Doogh-e-Abali, W: 15.0, V: 10.0\n",
      "Name: Nani, W: 5.0, V: 5.0\n",
      "Name: Jooj, W: 7.0, V: 15.0\n",
      "Name: Hot-Dog, W: 20.0, V: 15.0\n",
      "Name: Chips, W: 8.0, V: 6.0\n",
      "Name: Nooshaba, W: 12.0, V: 8.0\n",
      "Name: Shokolat, W: 6.0, V: 7.0\n",
      "Name: Chocoroll, W: 9.0, V: 12.0\n",
      "Name: Cookies, W: 11.0, V: 11.0\n",
      "Name: Abnabat, W: 4.0, V: 4.0\n",
      "Name: Adams-Khersi, W: 14.0, V: 9.0\n",
      "Name: Popcorn, W: 16.0, V: 13.0\n",
      "Name: Pastil, W: 3.0, V: 7.0\n",
      "Name: Tordilla, W: 10.0, V: 9.0\n",
      "Name: Masghati, W: 5.0, V: 6.0\n",
      "Name: Ghottab, W: 7.0, V: 10.0\n",
      "Name: Saghe-Talaei, W: 9.0, V: 11.0\n",
      "Name: Choob-Shoor, W: 13.0, V: 12.0\n"
     ]
    }
   ],
   "source": [
    "item_list = []\n",
    "# Create a list of Item objects\n",
    "for index, row in snack_df.iterrows():\n",
    "    item = Item(row['Snack'], float(row['Available Weight']), float(row['Value']))\n",
    "    item_list.append(item)\n",
    "\n",
    "# Now 'items' list contains Item objects\n",
    "for item in item_list:\n",
    "    print(f\"Name: {item.name}, W: {item.weight}, V: {item.value}\")    "
   ]
  },
  {
   "cell_type": "markdown",
   "metadata": {},
   "source": [
    "<!DOCTYPE html>\n",
    "<html lang=\"en\">\n",
    "<head>\n",
    "<meta charset=\"UTF-8\">\n",
    "<meta name=\"viewport\" content=\"width=device-width, initial-scale=1.0\">\n",
    "<title>Constants</title>\n",
    "<style>\n",
    "  body {\n",
    "    font-size: 20px;\n",
    "  }\n",
    "  li {\n",
    "    font-size: 15px;\n",
    "  }\n",
    "</style>\n",
    "</head>\n",
    "<body>\n",
    "\n",
    "<h2>Defining Constants:</h2>\n",
    "\n",
    "<ul>\n",
    "  <li><strong>MAX_WEIGHT:</strong> The maximum weight capacity of the knapsack.</li>\n",
    "  <li><strong>MIN_VALUE:</strong> The minimum total value required for selected snacks.</li>\n",
    "  <li><strong>MAX_NUMBER:</strong> The maximum number of distinct types of snacks allowed to be selected.</li>\n",
    "  <li><strong>MIN_NUMBER:</strong> The minimum number of distinct types of snacks required to be selected.</li>\n",
    "  <li><strong>POPULATION_SIZE:</strong> The size of the population (number of chromosomes) in the genetic algorithm.</li>\n",
    "  <li><strong>GENERATION_NUMBER:</strong> The number of generations for which the genetic algorithm will run.</li>\n",
    "  <li><strong>CROSSOVER_RATE:</strong> The probability of crossover occurring between two parent chromosomes during reproduction.</li>\n",
    "  <li><strong>MUTATION_RATE:</strong> The probability of mutation occurring in a chromosome during reproduction.</li>\n",
    "</ul>\n",
    "\n",
    "</body>\n",
    "</html>\n",
    "\n",
    "\n"
   ]
  },
  {
   "cell_type": "code",
   "execution_count": 6,
   "metadata": {},
   "outputs": [],
   "source": [
    "MAX_WEIGHT = 18.0\n",
    "MIN_VALUE = 30.0\n",
    "MAX_NUMBER = 10\n",
    "MIN_NUMBER = 1\n",
    "POPULATION_SIZE = 1000\n",
    "GENERATION_NUMBER = 1000\n",
    "CROSSOVER_RATE = 0.9\n",
    "MUTATION_RATE = 0.3"
   ]
  },
  {
   "cell_type": "markdown",
   "metadata": {},
   "source": [
    "# *Initial population*\n",
    "*This function generates an initial population for the genetic algorithm. It first creates an empty 2D NumPy array with dimensions size of population and lenght of items. Then, for each chromosome in the population, it generates a random number between 0 and 1 for each gene, corresponding to a specific item in the item_list.*"
   ]
  },
  {
   "cell_type": "code",
   "execution_count": 7,
   "metadata": {},
   "outputs": [],
   "source": [
    "def intial_population(POPULATION_SIZE, item_list):\n",
    "    return np.random.rand(POPULATION_SIZE, len(item_list)) "
   ]
  },
  {
   "cell_type": "markdown",
   "metadata": {},
   "source": [
    "# *Penalty Function:*\n",
    "\n",
    "*Evaluates penalties for a chromosome based on weight, total value, and number of selected snacks.*\n",
    "*Considers exceeding weight limit, falling short of value requirement, and selecting inappropriate number of snacks.*\n",
    "*Computes penalties proportional to deviations from constraints.*\n",
    "\n",
    "# *Fitness Function:*\n",
    "\n",
    "*Determines fitness score of a chromosome by subtracting its penalty from total value.*\n",
    "*Encourages genetic algorithm to prioritize solutions maximizing total snack value while meeting constraints.*"
   ]
  },
  {
   "cell_type": "code",
   "execution_count": 8,
   "metadata": {},
   "outputs": [],
   "source": [
    "def penalty(chromosome):\n",
    "    C1, C2 , C3 = 20,5,15\n",
    "    weight = chromosome.dot([item.weight for item in item_list])\n",
    "    weight_punishment = ((weight > MAX_WEIGHT) * (weight - MAX_WEIGHT)) * C1\n",
    "    total_value = chromosome.dot([item.value for item in item_list])\n",
    "    value_punishment = ((total_value < MIN_VALUE) * (MIN_VALUE - total_value)) * C3 \n",
    "    num = np.count_nonzero(chromosome)\n",
    "    num_punishment = ((num > MAX_NUMBER) * (num - MAX_NUMBER) + (num < MIN_NUMBER) * (MIN_NUMBER - num)) * C2\n",
    "    total_punishment = weight_punishment + num_punishment + value_punishment\n",
    "    return total_punishment\n",
    "\n",
    "def fitness(chromosome):    \n",
    "    total_value = chromosome.dot([item.value for item in item_list])\n",
    "    fitness = total_value - penalty(chromosome)\n",
    "    return fitness\n",
    "    "
   ]
  },
  {
   "cell_type": "markdown",
   "metadata": {},
   "source": [
    "# *Crossover Function:*\n",
    "*When we execute this function, we're essentially performing a one-point crossover operation in genetic algorithms. If the randomly generated value is greater than the specified crossover probability, we keep the original parents. However, if it's less than or equal to the crossover probability, we randomly select a crossover point. Then, we swap genetic material between the parents at that point to create two children. Finally, we return these children as the result.*"
   ]
  },
  {
   "cell_type": "code",
   "execution_count": 9,
   "metadata": {},
   "outputs": [],
   "source": [
    "def one_point_crossover(parent1, parent2, p_crossover):\n",
    "    if random.random() > p_crossover:\n",
    "        return parent1, parent2\n",
    "    crossover_point = random.randint(1, len(parent1)-1)\n",
    "    child1 = np.concatenate((parent1[:crossover_point], parent2[crossover_point:]))\n",
    "    child2 = np.concatenate((parent2[:crossover_point], parent1[crossover_point:]))\n",
    "    return child1, child2"
   ]
  },
  {
   "cell_type": "markdown",
   "metadata": {},
   "source": [
    "# *Mutation Function:*\n",
    "*when we execute this function, we're essentially performing a mutation operation in genetic algorithms. If the randomly generated value is greater than the specified mutation rate, we simply return the original chromosome. However, if it's less than or equal to the mutation rate, we proceed to randomly select an index within the chromosome. Then, we replace the value at that index with a new randomly generated value.*"
   ]
  },
  {
   "cell_type": "code",
   "execution_count": 10,
   "metadata": {},
   "outputs": [],
   "source": [
    "def mutation (chromosome,mutation_rate):\n",
    "    if np.random.random() > mutation_rate:\n",
    "        return chromosome\n",
    "    rand_index = np.random.randint(len(chromosome))\n",
    "    chromosome[rand_index]=np.random.random()\n",
    "    return chromosome"
   ]
  },
  {
   "cell_type": "markdown",
   "metadata": {},
   "source": [
    "*We start by sorting the population based on their fitness, where higher fitness corresponds to a higher index in the sorted population. Then, we calculate probabilities for each chromosome, ensuring that individuals with better fitness have a higher probability of being selected for the mating pool. After that, we randomly choose indices from the population according to these probabilities, using the calculated distribution to bias selection towards fitter individuals. Finally, we construct the mating pool by extracting individuals corresponding to the selected indices, forming pairs of individuals for mating. This approach optimizes the selection process, favoring individuals with superior fitness while maintaining diversity within the mating pool.*"
   ]
  },
  {
   "cell_type": "code",
   "execution_count": 11,
   "metadata": {},
   "outputs": [],
   "source": [
    "def mating_pool(population, size):\n",
    "    population = np.array(sorted(population, key=lambda x: fitness(x)))\n",
    "    indices = np.arange(1, len(population) + 1)\n",
    "    probs = indices / indices.sum()\n",
    "    indices = np.random.choice(len(population), size=size, p=probs)\n",
    "    item_list_length = population.shape[1]\n",
    "    return population[indices, :].reshape((-1, 2, item_list_length))"
   ]
  },
  {
   "cell_type": "markdown",
   "metadata": {},
   "source": [
    "*This function essentially helps to focus on the more significant elements of the chromosome by zeroing out or reducing the impact of smaller elements. It calculates a threshold value by dividing the sum of all elements in the chromosome by ten times the length of the chromosome. then we set all elements in the chromosome that are less than this threshold to zero. This effectively removes or reduces the influence of elements that are relatively small compared to the overall sum of the chromosome.*"
   ]
  },
  {
   "cell_type": "code",
   "execution_count": 12,
   "metadata": {},
   "outputs": [],
   "source": [
    "def normalize_chromosome(chromosome):\n",
    "    chromosome[chromosome < chromosome.sum()/(len(chromosome)*10)] = 0"
   ]
  },
  {
   "cell_type": "code",
   "execution_count": 13,
   "metadata": {},
   "outputs": [],
   "source": [
    "def check_constraint(chromosome):\n",
    "    sum_weight = chromosome.dot([item.weight for item in item_list])\n",
    "    sum_val = chromosome.dot([item.value for item in item_list])\n",
    "    if (sum_weight>MAX_WEIGHT) or (sum_val < MIN_VALUE) or (np.count_nonzero(chromosome)>MAX_NUMBER) or (np.count_nonzero(chromosome)<MIN_NUMBER):\n",
    "        return 0\n",
    "    return 1"
   ]
  },
  {
   "cell_type": "markdown",
   "metadata": {},
   "source": [
    "\n",
    "## *Testing the result*\n",
    "*in this function, we begin by setting up an intial population, then iteratively refines it over a fixed number of generations. In each generation, we normalizes the chromosome, form a mating pool, perform crossover and mutation to create the new population accordingly. The best fitness value of each generation is tracked and plotted. If a valid solution satisfying constraints is found, the algorithm terminates early. Finally, it returns the best solution found along with its total value and weight.*"
   ]
  },
  {
   "cell_type": "code",
   "execution_count": 14,
   "metadata": {},
   "outputs": [],
   "source": [
    "def genetic_algorithm(population,item_list):\n",
    "    best_fitness_of_each_generation =[]\n",
    "    for i in range(GENERATION_NUMBER):\n",
    "        for chromosome in population:\n",
    "            normalize_chromosome(chromosome)\n",
    "        mating = mating_pool(population, len(population))\n",
    "        new_population = []\n",
    "        for parents in mating:\n",
    "            child1, child2 = one_point_crossover(parents[0], parents[1], CROSSOVER_RATE)\n",
    "            child1 = mutation(child1, MUTATION_RATE)\n",
    "            child2 = mutation(child2, MUTATION_RATE)\n",
    "            new_population.append(child1)\n",
    "            new_population.append(child2)\n",
    "        population = np.array(new_population)\n",
    "        population = np.array(sorted(population, key=lambda x: fitness(x), reverse=True))\n",
    "        best_fitness_of_each_generation.append(fitness(population[0]))\n",
    "        if(check_constraint(population[0])):\n",
    "            break\n",
    "\n",
    "\n",
    "    # Plotting\n",
    "    plt.plot(best_fitness_of_each_generation)\n",
    "    plt.title('Best Fitness Across Generations')\n",
    "    plt.xlabel('Generation')\n",
    "    plt.ylabel('Fitness')\n",
    "    plt.show()\n",
    "    print(\"Total value of selected items:\", population[0].dot([item.value for item in item_list]))\n",
    "    print(\"Total weight of selected items:\",population[0].dot([item.weight for item in item_list]))\n",
    "    selected_items = [(item.name, amount * item.weight) for i, amount in enumerate(population[0]) if amount != 0]\n",
    "    constraint_result = \"Satisfies constraints\" if check_constraint(population[0]) else \"Does not satisfy constraints\"\n",
    "    print(\"Constraint check result:\", constraint_result)\n",
    "    print(\"Items selected:\")\n",
    "    for i, amount in enumerate(population[0]):\n",
    "            item_weight = amount * item_list[i].weight\n",
    "            print(f\"{item_list[i].name}: {item_weight}\")\n",
    "            \n",
    "    return population"
   ]
  },
  {
   "cell_type": "code",
   "execution_count": 15,
   "metadata": {},
   "outputs": [],
   "source": [
    "init_population = intial_population(POPULATION_SIZE, item_list)"
   ]
  },
  {
   "cell_type": "code",
   "execution_count": 16,
   "metadata": {},
   "outputs": [
    {
     "data": {
      "image/png": "[encoded data removed]",
      "text/plain": [
       "<Figure size 640x480 with 1 Axes>"
      ]
     },
     "metadata": {},
     "output_type": "display_data"
    },
    {
     "name": "stdout",
     "output_type": "stream",
     "text": [
      "Total value of selected items: 30.086289730754206\n",
      "Total weight of selected items: 17.659959826618437\n",
      "Constraint check result: Satisfies constraints\n",
      "Items selected:\n",
      "MazMaz: 0.8330466084575872\n",
      "Doogh-e-Abali: 0.0\n",
      "Nani: 0.223261992024813\n",
      "Jooj: 6.418147021283645\n",
      "Hot-Dog: 0.0\n",
      "Chips: 0.4306152186957961\n",
      "Nooshaba: 0.0\n",
      "Shokolat: 1.9314155567165494\n",
      "Chocoroll: 0.0\n",
      "Cookies: 0.0\n",
      "Abnabat: 0.0\n",
      "Adams-Khersi: 0.0\n",
      "Popcorn: 0.0\n",
      "Pastil: 2.3847964165417954\n",
      "Tordilla: 1.0922046635256721\n",
      "Masghati: 0.24598876842309714\n",
      "Ghottab: 4.100483580949481\n",
      "Saghe-Talaei: 0.0\n",
      "Choob-Shoor: 0.0\n"
     ]
    }
   ],
   "source": [
    "pop = genetic_algorithm(init_population, item_list)"
   ]
  },
  {
   "cell_type": "markdown",
   "metadata": {},
   "source": [
    "*The plot displays the trend of the best fitness value across generations during the execution of the genetic algorithm. Each point on the plot represents the best fitness value achieved in each generation. As the algorithm progresses through generations, the plot illustrates how the fitness of the best solution found so far evolves over time. This visualization helps in understanding the convergence behavior of the algorithm and whether it is making progress towards finding an optimal solution. If the plot shows an increasing trend or stabilizes at a high fitness value, it indicates that the algorithm is successfully improving solutions. On the other hand, if the plot remains flat or fluctuates without improvement, it suggests that the algorithm may be struggling to find better solutions or may have converged prematurely.*"
   ]
  },
  {
   "cell_type": "markdown",
   "metadata": {},
   "source": [
    "---"
   ]
  },
  {
   "cell_type": "markdown",
   "metadata": {},
   "source": [
    "<!DOCTYPE html>\n",
    "<html lang=\"en\">\n",
    "<head>\n",
    "  <meta charset=\"UTF-8\">\n",
    "  <meta name=\"viewport\" content=\"width=device-width, initial-scale=1.0\">\n",
    "  <title style=\"color: blue;\">Genetic Algorithm Questions</title>\n",
    "  <style>\n",
    "    body {\n",
    "      font-family: Arial;\n",
    "      line-height: 1.6;\n",
    "    }\n",
    "    p {\n",
    "      margin-bottom: 20px;\n",
    "    }\n",
    "  </style>\n",
    "</head>\n",
    "<body>\n",
    "  <h2>Genetic Algorithm Questions</h2>\n",
    "  <ol>\n",
    "    <li>\n",
    "      <strong>What happens if our population is too big or small?</strong>\n",
    "      <p>If there are lots of individuals in the population, we might find the best solution faster because there's more variety to choose from. But it also means the computer needs more time and memory. If there are only a few individuals, there's less variety, so it's harder to find the best solution. We might not even find it at all.</p>\n",
    "    </li>\n",
    "    <li>\n",
    "      <strong>What happens if the population increases after each generation?</strong>\n",
    "      <p>If we make the population bigger with each generation, it means there are more and more individuals to choose from. This can be helpful because it increases the diversity of possible solutions. However, it also means the computer needs more time and memory to handle all those individuals. Usually, we keep the population the same size throughout to help the chromosomes converge to the best solution. If we make the population bigger, it might actually make it harder for the chromosomes to converge to that best solution.</p>\n",
    "    </li>\n",
    "    <li>\n",
    "      <strong>What are the effects of crossover and mutation and what happens if we use only one of them?</strong>\n",
    "      <p>Crossover and mutation are both important operations in genetic algorithms. Crossover combines good chromosomes to create better ones, while mutation directly changes the genes of a chromosome, helping to explore new possibilities and escape local optima. If we use only one of them, we may encounter limitations. For instance, relying solely on crossover may not lead to an optimal solution, as mutation introduces necessary randomness to explore new areas of the solution space. Conversely, only using mutation might not result in convergence to the best solution because it lacks the effectiveness of crossover in combining beneficial traits. However, in certain scenarios with specific parameters, solely relying on mutation may lead to the answer.</p>\n",
    "    </li>\n",
    "    <li>\n",
    "      <strong>What are some ways to find the answer faster?</strong>\n",
    "      <p>Experimenting with algorithm parameters can help find optimal settings for faster convergence. Additionally, adjusting crossover and mutation rates, population size, and termination conditions can enhance performance.</p>\n",
    "    </li>\n",
    "    <li>\n",
    "      <strong>How can we solve the problem of chromosomes getting stuck after some generations?</strong>\n",
    "      <p>Using mutation can help prevent chromosomes from getting stuck in local optima. Alternatively, employing multi-start strategies by running the algorithm with different initial populations can increase exploration and potentially find better solutions.</p>\n",
    "    </li>\n",
    "    <li>\n",
    "      <strong>What can we do to stop the algorithm if the problem doesn't have any solutions?</strong>\n",
    "      <p>Setting a maximum generation limit can prevent the algorithm from running indefinitely. If no solutions are found within the limit, the algorithm can return the chromosome with the best fitness in the final population.</p>\n",
    "    </li>\n",
    "  </ol>\n",
    "</body>\n",
    "</html>\n"
   ]
  }
 ],
 "metadata": {
  "kernelspec": {
   "display_name": "base",
   "language": "python",
   "name": "python3"
  },
  "language_info": {
   "codemirror_mode": {
    "name": "ipython",
    "version": 3
   },
   "file_extension": ".py",
   "mimetype": "text/x-python",
   "name": "python",
   "nbconvert_exporter": "python",
   "pygments_lexer": "ipython3",
   "version": "3.11.7"
  }
 },
 "nbformat": 4,
 "nbformat_minor": 2
}
